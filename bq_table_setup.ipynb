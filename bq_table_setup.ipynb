{
 "cells": [
  {
   "cell_type": "markdown",
   "id": "e96dac2f-f446-4376-9c9c-49dc1ad711d4",
   "metadata": {},
   "source": [
    "# BQ Table Setup"
   ]
  },
  {
   "cell_type": "markdown",
   "id": "8cfbe522-a7fb-41a8-bcbf-98d81d291275",
   "metadata": {},
   "source": [
    "If you have your development environment appropriately setup, notably having access to Weathernext data in BigQuery and having your `GOOGLE_APPLICATION_CREDENTIALS` setup properly, then select Run All Cells to create the summary tables used in this demo"
   ]
  },
  {
   "cell_type": "code",
   "execution_count": null,
   "id": "84142b2e-75e6-4c22-bf93-ad57e283bbf8",
   "metadata": {},
   "outputs": [],
   "source": [
    "# imports\n",
    "from google.cloud import bigquery"
   ]
  },
  {
   "cell_type": "code",
   "execution_count": null,
   "id": "9de7a6d8-15a6-45b0-b6d9-5ddcb8a89daf",
   "metadata": {},
   "outputs": [],
   "source": [
    "project = !gcloud config get-value project\n",
    "PROJECT_ID = project[0]\n",
    "PROJECT_ID"
   ]
  },
  {
   "cell_type": "code",
   "execution_count": null,
   "id": "c9d3d408-e884-4c97-950a-2fa46167da19",
   "metadata": {},
   "outputs": [],
   "source": [
    "client = bigquery.Client(project=PROJECT_ID)"
   ]
  },
  {
   "cell_type": "code",
   "execution_count": null,
   "id": "3122705c-2333-455b-a5bb-1611995ae303",
   "metadata": {},
   "outputs": [],
   "source": [
    "# create dataset first\n",
    "DATASET_ID = \"wn_demo\"\n",
    "dataset = bigquery.Dataset(f\"{PROJECT_ID}.{DATASET_ID}\")\n",
    "dataset.location = \"US\"\n",
    "\n",
    "try:\n",
    "    dataset = client.create_dataset(dataset, timeout=30)  # API request with a 30-second timeout\n",
    "    print(f\"Created dataset {client.project}.{dataset.dataset_id}\")\n",
    "except Exception as e:\n",
    "    print(f\"Error creating dataset: {e}\")"
   ]
  },
  {
   "cell_type": "code",
   "execution_count": null,
   "id": "ffec1327-1a71-4dcd-b449-3efd611dbfe2",
   "metadata": {},
   "outputs": [],
   "source": [
    "# create initial PA table for December 18, 2022\n",
    "query_1 = f\"\"\"\n",
    "CREATE OR REPLACE TABLE\n",
    "  {DATASET_ID}.pa_dec_18_2022 AS (\n",
    "  WITH\n",
    "    state_geom_lookup AS (\n",
    "      -- Select the geometry for Pennsylvania from the public dataset\n",
    "    SELECT\n",
    "      state_geom\n",
    "    FROM\n",
    "      `bigquery-public-data.geo_us_boundaries.states`\n",
    "    WHERE\n",
    "      state_name = 'Pennsylvania' )\n",
    "  SELECT\n",
    "    weather.init_time,\n",
    "    weather.geography,\n",
    "    weather.geography_polygon,\n",
    "    f.time AS forecast_time,\n",
    "    f.hours AS forecast_hours_offset,\n",
    "    f.`2m_temperature`,\n",
    "    f.total_precipitation_6hr,\n",
    "    f.`10m_u_component_of_wind`,\n",
    "    f.`10m_v_component_of_wind`,\n",
    "    SQRT(POW(f.`10m_u_component_of_wind`, 2) + POW(f.`10m_v_component_of_wind`, 2)) AS `10m_total_wind_speed`   -- Calculate wind speed from U and V components\n",
    "  FROM\n",
    "    `{PROJECT_ID}.weathernext_graph_forecasts.59572747_4_0` AS weather,\n",
    "    UNNEST(weather.forecast) AS f\n",
    "  JOIN\n",
    "    state_geom_lookup AS st\n",
    "  ON\n",
    "    ST_INTERSECTS(weather.geography, st.state_geom) -- Join only weather points inside state lines\n",
    "  WHERE\n",
    "    weather.init_time = TIMESTAMP(\"2022-12-18\") -- Updated example date\n",
    "  ORDER BY\n",
    "    f.`10m_u_component_of_wind` DESC )\n",
    "\"\"\""
   ]
  },
  {
   "cell_type": "code",
   "execution_count": null,
   "id": "32c15a05-fa10-4507-b28e-7d7186cee298",
   "metadata": {},
   "outputs": [],
   "source": [
    "# Create daily summary table\n",
    "query_2 = f\"\"\"\n",
    "CREATE OR REPLACE TABLE\n",
    "  {DATASET_ID}.pa_dec_18_2022_summ AS (\n",
    "  SELECT\n",
    "    FORMAT_TIMESTAMP('%m-%d-%Y', init_time) AS init_date,\n",
    "    FORMAT_TIMESTAMP('%m-%d-%Y', forecast_time) AS forecast_date,\n",
    "    ST_ASGEOJSON(geography_polygon) AS geography_polygon,\n",
    "    -- Keep the original geography column\n",
    "    MAX(`2m_temperature`) AS temperature,\n",
    "    MAX(total_precipitation_6hr) AS precipitation,\n",
    "    MAX(SQRT(POWER(`10m_u_component_of_wind`, 2) + POWER(`10m_v_component_of_wind`, 2))) AS wind_speed\n",
    "  FROM\n",
    "    `{PROJECT_ID}.{DATASET_ID}.pa_dec_18_2022`\n",
    "  GROUP BY\n",
    "    init_date,\n",
    "    forecast_date,\n",
    "    geography_polygon)\n",
    "\"\"\""
   ]
  },
  {
   "cell_type": "code",
   "execution_count": null,
   "id": "d27d6cef-1406-4ff3-b835-9fa6124c6ada",
   "metadata": {},
   "outputs": [],
   "source": [
    "queries = [query_1, query_2]"
   ]
  },
  {
   "cell_type": "code",
   "execution_count": null,
   "id": "c72bb957-5646-4e3e-8e41-aa4c3205eeb8",
   "metadata": {},
   "outputs": [],
   "source": [
    "try:\n",
    "    for query in queries:\n",
    "        query_job = client.query(query)  # API request without job_config\n",
    "        print(f\"Started job: {query_job.job_id}\")\n",
    "        results = query_job.result()  # Waits for the query to finish\n",
    "        if query_job.state == \"DONE\":\n",
    "            if query_job.error_result:\n",
    "                print(\"Query job finished with an error:\")\n",
    "                print(f\"  Reason: {query_job.error_result.get('reason')}\")\n",
    "                print(f\"  Message: {query_job.error_result.get('message')}\")\n",
    "            else:\n",
    "                print(f\"Query job {query_job.job_id} completed successfully.\")\n",
    "                print(f\"Total bytes processed: {query_job.total_bytes_processed}\")\n",
    "        else:\n",
    "            # This case should ideally not be reached if .result() completed\n",
    "            # without error, but it's good for completeness.\n",
    "            print(f\"Query job {query_job.job_id} finished with state: {query_job.state}\")\n",
    "            if query_job.error_result:\n",
    "                print(f\"  Error: {query_job.error_result}\")\n",
    "except Exception as e:\n",
    "    print(f\"Error executing query: {e}\")"
   ]
  }
 ],
 "metadata": {
  "kernelspec": {
   "display_name": "Python 3 (ipykernel)",
   "language": "python",
   "name": "python3"
  },
  "language_info": {
   "codemirror_mode": {
    "name": "ipython",
    "version": 3
   },
   "file_extension": ".py",
   "mimetype": "text/x-python",
   "name": "python",
   "nbconvert_exporter": "python",
   "pygments_lexer": "ipython3",
   "version": "3.13.3"
  }
 },
 "nbformat": 4,
 "nbformat_minor": 5
}
